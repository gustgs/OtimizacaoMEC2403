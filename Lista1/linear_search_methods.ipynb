{
 "cells": [
  {
   "cell_type": "markdown",
   "metadata": {},
   "source": []
  },
  {
   "cell_type": "code",
   "execution_count": 5,
   "metadata": {},
   "outputs": [],
   "source": [
    "import numpy as np\n",
    "import math\n",
    "\n",
    "def passo_cte(dir_unit, P1, f, step=0.01, mod_dir=1000):\n",
    "        #recebe o vetor direcao unitario, P1, funcao\n",
    "        #pode receber tambem o modulo do vetor direcao e o step\n",
    "        for alpha in np.arange(0, mod_dir, step):\n",
    "                Pmin = P1 + alpha*dir_unit\n",
    "                alpha_min = alpha\n",
    "                if (f(P1 + alpha*dir_unit) < f(P1 + (alpha+step)*dir_unit)):\n",
    "                        break\n",
    "        \n",
    "        #retorna o P(x1,x2) minimo e o intervalo de busca(alpha minimo e o alpha seguinte)                 \n",
    "        return Pmin, np.array([alpha_min, alpha_min+step])"
   ]
  },
  {
   "cell_type": "code",
   "execution_count": 6,
   "metadata": {},
   "outputs": [],
   "source": [
    "def bissecao(intervalo, dir_unit, P1, f, tol=0.00001):\n",
    "    \n",
    "    alpha_upper = intervalo[1]\n",
    "    alpha_lower = intervalo[0]\n",
    "    alpha_med = (alpha_lower + alpha_upper)/2\n",
    "    Pmin = P1 + alpha_med*dir_unit    \n",
    "    \n",
    "    if ((alpha_upper - alpha_lower) <= tol):\n",
    "        return Pmin, alpha_med\n",
    "    else:\n",
    "        f1 = f(P1 + (alpha_med - tol)*dir_unit)\n",
    "        f2 = f(P1 + (alpha_med + tol)*dir_unit)\n",
    "              \n",
    "        if (f1 > f2):\n",
    "            alpha_lower = alpha_med\n",
    "            intervalo[0] = alpha_lower\n",
    "            return  bissecao(intervalo, dir_unit, P1, f, tol)\n",
    "        else:\n",
    "            alpha_upper = alpha_med\n",
    "            intervalo[1] = alpha_upper            \n",
    "            return  bissecao(intervalo, dir_unit, P1, f, tol)"
   ]
  },
  {
   "cell_type": "code",
   "execution_count": 7,
   "metadata": {},
   "outputs": [],
   "source": [
    "def secao_aurea(intervalo, dir_unit, P1, f, tol=0.00001):\n",
    "    alpha_upper = intervalo[1]\n",
    "    alpha_lower = intervalo[0]\n",
    "    beta = alpha_upper - alpha_lower\n",
    "    Ra = (math.sqrt(5)-1)/2\n",
    "    \n",
    "    alpha_e = alpha_lower + (1-Ra)*beta\n",
    "    alpha_d = alpha_lower + Ra*beta \n",
    "    f1 = f(P1 + alpha_e*dir_unit)\n",
    "    f2 = f(P1 + alpha_d*dir_unit)\n",
    "    \n",
    "    while (beta > tol):\n",
    "        if (f1 > f2):\n",
    "            alpha_lower = alpha_e\n",
    "            f1 = f2\n",
    "            beta = alpha_upper - alpha_lower\n",
    "            alpha_e = alpha_lower + (1-Ra)*beta\n",
    "            alpha_d = alpha_lower + Ra*beta \n",
    "            f2 = f(P1 + alpha_d*dir_unit)\n",
    "        else:\n",
    "            alpha_upper = alpha_d\n",
    "            f2 = f1\n",
    "            beta = alpha_upper - alpha_lower\n",
    "            alpha_e = alpha_lower + (1-Ra)*beta\n",
    "            alpha_d = alpha_lower + Ra*beta \n",
    "            f1 = f(P1 + alpha_e*dir_unit)\n",
    "            \n",
    "    alpha_med = (alpha_lower + alpha_upper)/2\n",
    "    Pmin = P1 + alpha_med*dir_unit\n",
    "    \n",
    "    return Pmin, alpha_med"
   ]
  },
  {
   "cell_type": "code",
   "execution_count": 8,
   "metadata": {},
   "outputs": [],
   "source": [
    "def secao_aurea_recursiva(intervalo, dir_unit, P1, f, tol=0.00001):\n",
    "    #nao é a melhor implementacao pois chama funcao f 2vezes em cada iteração\n",
    "    alpha_upper = intervalo[1]\n",
    "    alpha_lower = intervalo[0]\n",
    "    alpha_med = (alpha_lower + alpha_upper)/2\n",
    "    Pmin = P1 + alpha_med*dir_unit\n",
    "    \n",
    "    beta = alpha_upper - alpha_lower\n",
    "    Ra = (math.sqrt(5)-1)/2\n",
    "    \n",
    "    if beta <= tol :\n",
    "        return Pmin, alpha_med\n",
    "    else:\n",
    "        alpha_e = alpha_lower + (1-Ra)*beta\n",
    "        alpha_d = alpha_lower + Ra*beta\n",
    "        f1 = f(P1 + alpha_e*dir_unit)\n",
    "        f2 = f(P1 + alpha_d*dir_unit)\n",
    "        if (f1 > f2):\n",
    "            alpha_lower = alpha_e\n",
    "            intervalo[0] = alpha_lower            \n",
    "        else:\n",
    "            alpha_upper = alpha_d\n",
    "            intervalo[1] = alpha_upper\n",
    "    return secao_aurea(intervalo, dir_unit, P1, f, tol)"
   ]
  }
 ],
 "metadata": {
  "kernelspec": {
   "display_name": "optimization",
   "language": "python",
   "name": "python3"
  },
  "language_info": {
   "codemirror_mode": {
    "name": "ipython",
    "version": 3
   },
   "file_extension": ".py",
   "mimetype": "text/x-python",
   "name": "python",
   "nbconvert_exporter": "python",
   "pygments_lexer": "ipython3",
   "version": "3.11.0"
  },
  "orig_nbformat": 4
 },
 "nbformat": 4,
 "nbformat_minor": 2
}
