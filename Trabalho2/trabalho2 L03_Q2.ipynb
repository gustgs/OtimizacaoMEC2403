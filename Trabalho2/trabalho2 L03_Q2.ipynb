{
 "cells": [
  {
   "cell_type": "code",
   "execution_count": 55,
   "metadata": {},
   "outputs": [],
   "source": [
    "import numpy as np\n",
    "import osr_methods as osr\n",
    "import line_search_methods as lsm\n",
    "import ocr_methods as ocr\n",
    "import numdifftools as nd\n",
    "import matplotlib.pyplot as plt\n",
    "from timeit import default_timer as timer"
   ]
  },
  {
   "attachments": {},
   "cell_type": "markdown",
   "metadata": {},
   "source": [
    "### Definição do Ponto Inicial"
   ]
  },
  {
   "cell_type": "code",
   "execution_count": 56,
   "metadata": {},
   "outputs": [],
   "source": [
    "#exterior\n",
    "x = np.array([-1, 5])\n",
    "\n",
    "#interior\n",
    "#x = np.array([2., -2.])"
   ]
  },
  {
   "attachments": {},
   "cell_type": "markdown",
   "metadata": {},
   "source": [
    "### Escolha dos métodos de OSR e OCR"
   ]
  },
  {
   "cell_type": "code",
   "execution_count": 57,
   "metadata": {},
   "outputs": [],
   "source": [
    "# Metodos OCR\n",
    "# 1 - Penalidade\n",
    "# 2 - Barreira\n",
    "metodo_ocr = 1\n",
    "\n",
    "# Metodos OSR\n",
    "# 1 - Univariante\n",
    "# 2 - Powell\n",
    "# 3 - Stepest Descent\n",
    "# 4 - Newton-Raphson\n",
    "# 5 - Fletcher-Reeves\n",
    "# 6 - BFGS\n",
    "metodo_osr = 6"
   ]
  },
  {
   "attachments": {},
   "cell_type": "markdown",
   "metadata": {},
   "source": [
    "### Controle Numérico"
   ]
  },
  {
   "cell_type": "code",
   "execution_count": 58,
   "metadata": {},
   "outputs": [],
   "source": [
    "# numero maximo de iteracoes na OSR\n",
    "maxiter = 200\n",
    "\n",
    "# tolerancia para convergencia do gradiente na OSR\n",
    "tol_conv = 1E-5\n",
    "\n",
    "# tolerancia para a busca unidirecional na OSR\n",
    "tol_search = 1E-6\n",
    "\n",
    "# delta alpha do passo constante na OSR\n",
    "line_step = 1E-2\n",
    "\n",
    "#epsilon da maquina\n",
    "eps = 1E-8\n",
    "\n",
    "#parametros ocr\n",
    "if metodo_ocr == 1:\n",
    "    #penalidade\n",
    "    r = 1\n",
    "    beta = 10\n",
    "elif metodo_ocr == 2:\n",
    "    #barreira\n",
    "    r = 1\n",
    "    beta = 0.1\n",
    "\n",
    "#tolerancia OCR\n",
    "tol = 1E-3\n",
    "\n",
    "ctrl_num_osr = [maxiter, tol_conv, tol_search, line_step, eps]"
   ]
  },
  {
   "attachments": {},
   "cell_type": "markdown",
   "metadata": {},
   "source": [
    "### Definição de f"
   ]
  },
  {
   "cell_type": "code",
   "execution_count": 59,
   "metadata": {},
   "outputs": [],
   "source": [
    "def f(x):\n",
    "    return (x[0]-1)**2 + (x[1]-2)**2\n",
    "\n",
    "def grad_f(x):\n",
    "    return np.array([2*(x[0]-1), 2*(x[1]-2)])\n",
    "\n",
    "def hess_f(x):\n",
    "    hess = np.zeros((2,2), dtype=float)\n",
    "    hess[0,:] = np.array([2.,0.])\n",
    "    hess[1,:] = np.array([0.,2.])\n",
    "    return hess"
   ]
  },
  {
   "attachments": {},
   "cell_type": "markdown",
   "metadata": {},
   "source": [
    "### Definição das restrições de igualdade"
   ]
  },
  {
   "cell_type": "code",
   "execution_count": 60,
   "metadata": {},
   "outputs": [],
   "source": [
    "def hk1(x):\n",
    "    return x[0] + x[1] - 2\n",
    "\n",
    "def grad_hk1(x):\n",
    "    return np.array([1.,1.])\n",
    "\n",
    "def hess_hk1(x):\n",
    "    return np.zeros((2,2), dtype=float)"
   ]
  },
  {
   "attachments": {},
   "cell_type": "markdown",
   "metadata": {},
   "source": [
    "### Definição das restrições de desigualdade"
   ]
  },
  {
   "cell_type": "code",
   "execution_count": 61,
   "metadata": {},
   "outputs": [],
   "source": [
    "def cl1(x):\n",
    "    return -x[0]**2 + x[1]\n",
    "\n",
    "def grad_cl1(x):\n",
    "    return np.array([-2.0*x[0], 1.])\n",
    "\n",
    "def hess_cl1(x):\n",
    "    hess = np.zeros((2,2), dtype=float)\n",
    "    hess[0,:] = np.array([-2., 0.])\n",
    "    hess[1,:] = np.array([0., 0.])\n",
    "    return hess\n",
    "\n"
   ]
  },
  {
   "attachments": {},
   "cell_type": "markdown",
   "metadata": {},
   "source": [
    "### Listas de Restrições e suas derivadas"
   ]
  },
  {
   "cell_type": "code",
   "execution_count": 62,
   "metadata": {},
   "outputs": [],
   "source": [
    "hk_list = [hk1]\n",
    "grad_hk_list = [grad_hk1]\n",
    "hess_hk_list = [hess_hk1]\n",
    "\n",
    "cl_list = [cl1]\n",
    "grad_cl_list = [grad_cl1]\n",
    "hess_cl_list = [hess_cl1]\n",
    "\n",
    "#para o metodo de penalidade\n",
    "#controle de quais cls irao montar a phi\n",
    "cl_mont = []\n",
    "if metodo_ocr == 1:\n",
    "    for cl in cl_list:\n",
    "        if cl(x) > 0:\n",
    "            cl_mont.append(1)\n",
    "        else:\n",
    "            cl_mont.append(0)\n",
    "            \n",
    "params = [f, grad_f, hess_f, hk_list, grad_hk_list, hess_hk_list, cl_list, grad_cl_list, hess_cl_list, cl_mont]\n"
   ]
  },
  {
   "cell_type": "code",
   "execution_count": 63,
   "metadata": {},
   "outputs": [
    {
     "name": "stdout",
     "output_type": "stream",
     "text": [
      "1, iteracoes=7 x=[1.08085022 1.5218467 ], r=1\n",
      "2, iteracoes=4 x=[1.01953106 1.09996024], r=10\n",
      "3, iteracoes=200 x=[1.00219299 1.01098901], r=100\n",
      "4, iteracoes=200 x=[1.00022192 1.00110956], r=1000\n",
      "5, iteracoes=200 x=[1.00002225 1.00011107], r=10000\n"
     ]
    }
   ],
   "source": [
    "\n",
    "if metodo_ocr == 1:\n",
    "    parc = (1/2)*r*ocr.p_penal(x, params)\n",
    "elif metodo_ocr == 2:\n",
    "    parc = r*ocr.b_bar(x, params)\n",
    "    \n",
    "listP_OCR = []\n",
    "listP_OCR.append(x)\n",
    "\n",
    "passos_OCR = 0\n",
    "while(parc > tol):\n",
    "    passos_OCR = passos_OCR + 1\n",
    "    if passos_OCR > 1:\n",
    "        r = beta*r\n",
    "        if metodo_ocr == 1:\n",
    "            cl_mont = []\n",
    "            for cl in cl_list:\n",
    "                if cl(x) > 0:\n",
    "                    cl_mont.append(1)\n",
    "                else:\n",
    "                    cl_mont.append(0)\n",
    "    listP_OSR, passos_OSR, flag_conv_OSR, tempoExec_OSR = osr.osr_ctrl(x, params, r, ctrl_num_osr, metodo_ocr, metodo_osr)\n",
    "    x = listP_OSR[-1]\n",
    "    listP_OCR.append(x)\n",
    "    if metodo_ocr == 1:\n",
    "        parc = (1/2)*r*ocr.p_penal(x, params)\n",
    "    elif metodo_ocr == 2:\n",
    "        parc = r*ocr.b_bar(x, params)\n",
    "    print(f'{passos_OCR}, iteracoes={passos_OSR} x={x}, r={r}')\n",
    "    "
   ]
  }
 ],
 "metadata": {
  "kernelspec": {
   "display_name": "optimization",
   "language": "python",
   "name": "python3"
  },
  "language_info": {
   "codemirror_mode": {
    "name": "ipython",
    "version": 3
   },
   "file_extension": ".py",
   "mimetype": "text/x-python",
   "name": "python",
   "nbconvert_exporter": "python",
   "pygments_lexer": "ipython3",
   "version": "3.11.0"
  },
  "orig_nbformat": 4
 },
 "nbformat": 4,
 "nbformat_minor": 2
}
