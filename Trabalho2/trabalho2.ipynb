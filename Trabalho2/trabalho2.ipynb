{
 "cells": [
  {
   "cell_type": "code",
   "execution_count": 92,
   "metadata": {},
   "outputs": [],
   "source": [
    "import numpy as np\n",
    "import osr_methods as osr\n",
    "import line_search_methods as lsm\n",
    "import ocr_methods as ocr\n",
    "import numdifftools as nd\n",
    "import matplotlib.pyplot as plt\n",
    "from timeit import default_timer as timer"
   ]
  },
  {
   "attachments": {},
   "cell_type": "markdown",
   "metadata": {},
   "source": [
    "### Definição do Ponto Inicial"
   ]
  },
  {
   "cell_type": "code",
   "execution_count": 93,
   "metadata": {},
   "outputs": [],
   "source": [
    "x = np.array([-0.5, 2])"
   ]
  },
  {
   "attachments": {},
   "cell_type": "markdown",
   "metadata": {},
   "source": [
    "### Escolha dos métodos de OSR e OCR"
   ]
  },
  {
   "cell_type": "code",
   "execution_count": 94,
   "metadata": {},
   "outputs": [],
   "source": [
    "# Metodos OCR\n",
    "# 1 - Penalidade\n",
    "# 2 - Barreira\n",
    "metodo_ocr = 2\n",
    "\n",
    "# Metodos OSR\n",
    "# 1 - Univariante\n",
    "# 2 - Powell\n",
    "# 3 - Stepest Descent\n",
    "# 4 - Newton-Raphson\n",
    "# 5 - Fletcher-Reeves\n",
    "# 6 - BFGS\n",
    "metodo_osr = 6"
   ]
  },
  {
   "attachments": {},
   "cell_type": "markdown",
   "metadata": {},
   "source": [
    "### Controle Numérico"
   ]
  },
  {
   "cell_type": "code",
   "execution_count": 95,
   "metadata": {},
   "outputs": [],
   "source": [
    "# numero maximo de iteracoes na OSR\n",
    "maxiter = 200\n",
    "\n",
    "# tolerancia para convergencia do gradiente na OSR\n",
    "tol_conv = 1E-5\n",
    "\n",
    "# tolerancia para a busca unidirecional na OSR\n",
    "tol_search = 1E-6\n",
    "\n",
    "# delta alpha do passo constante na OSR\n",
    "line_step = 1E-2\n",
    "\n",
    "#epsilon da maquina\n",
    "eps = 1E-8\n",
    "\n",
    "#parametros ocr\n",
    "if metodo_ocr == 1:\n",
    "    #penalidade\n",
    "    r = 1\n",
    "    beta = 10\n",
    "elif metodo_ocr == 2:\n",
    "    #barreira\n",
    "    r = 1\n",
    "    beta = 0.1\n",
    "\n",
    "#tolerancia OCR\n",
    "tol = 1E-8\n",
    "\n",
    "ctrl_num_osr = [maxiter, tol_conv, tol_search, line_step, eps]"
   ]
  },
  {
   "attachments": {},
   "cell_type": "markdown",
   "metadata": {},
   "source": [
    "### Definição de f"
   ]
  },
  {
   "cell_type": "code",
   "execution_count": 96,
   "metadata": {},
   "outputs": [],
   "source": [
    "def f(x):\n",
    "    return x[0]**2 + x[1]**2\n",
    "\n",
    "def grad_f(x):\n",
    "    return np.array([2*x[0], 2*x[1]])\n",
    "\n",
    "def hess_f(x):\n",
    "    hess = np.zeros((2,2), dtype=float)\n",
    "    hess[0,:] = np.array([2,0])\n",
    "    hess[1,:] = np.array([0,2])\n",
    "    return hess"
   ]
  },
  {
   "attachments": {},
   "cell_type": "markdown",
   "metadata": {},
   "source": [
    "### Definição das restrições de igualdade"
   ]
  },
  {
   "cell_type": "code",
   "execution_count": 97,
   "metadata": {},
   "outputs": [],
   "source": [
    "def hk1(x):\n",
    "    return\n",
    "\n",
    "def grad_hk1(x):\n",
    "    return\n",
    "\n",
    "def hess_hk1(x):\n",
    "    return\n",
    "\n",
    "def hk2(x):\n",
    "    return\n",
    "\n",
    "def grad_hk2(x):\n",
    "    return\n",
    "\n",
    "def hess_hk2(x):\n",
    "    return"
   ]
  },
  {
   "attachments": {},
   "cell_type": "markdown",
   "metadata": {},
   "source": [
    "### Definição das restrições de desigualdade"
   ]
  },
  {
   "cell_type": "code",
   "execution_count": 98,
   "metadata": {},
   "outputs": [],
   "source": [
    "def cl1(x):\n",
    "    return 2*x[0] + x[1] - 2\n",
    "\n",
    "def grad_cl1(x):\n",
    "    return np.array([2,1])\n",
    "\n",
    "def hess_cl1(x):\n",
    "    return np.zeros((2,2), dtype=float)\n",
    "\n",
    "def cl2(x):\n",
    "    return -x[1] + 1\n",
    "\n",
    "def grad_cl2(x):\n",
    "    return np.array([0,-1])\n",
    "\n",
    "def hess_cl2(x):\n",
    "    return np.zeros((2,2), dtype=float)"
   ]
  },
  {
   "attachments": {},
   "cell_type": "markdown",
   "metadata": {},
   "source": [
    "### Listas de Restrições e suas derivadas"
   ]
  },
  {
   "cell_type": "code",
   "execution_count": 99,
   "metadata": {},
   "outputs": [],
   "source": [
    "hk_list = [hk1, hk2]\n",
    "grad_hk_list = [grad_hk1, grad_hk2]\n",
    "hess_hk_list = [hess_hk1, hess_hk2]\n",
    "\n",
    "cl_list = [cl1, cl2]\n",
    "grad_cl_list = [grad_cl1, grad_cl2]\n",
    "hess_cl_list = [hess_cl1, hess_cl2]\n",
    "\n",
    "#para o metodo de penalidade\n",
    "#controle de quais cls irao montar a phi\n",
    "cl_mont = []\n",
    "if metodo_ocr == 1:\n",
    "    for cl in cl_list:\n",
    "        if cl(x) > 0:\n",
    "            cl_mont.append(1)\n",
    "        else:\n",
    "            cl_mont.append(0)\n",
    "            \n",
    "params = [f, grad_f, hess_f, hk_list, grad_hk_list, hess_hk_list, cl_list, grad_cl_list, hess_cl_list, cl_mont]\n"
   ]
  },
  {
   "cell_type": "code",
   "execution_count": null,
   "metadata": {},
   "outputs": [],
   "source": [
    "if metodo_ocr == 1:\n",
    "    parc = (1/2)*r*ocr.p_penal(x, params)\n",
    "elif metodo_ocr == 2:\n",
    "    parc = r*ocr.b_bar(x, params)\n",
    "    \n",
    "listP_OCR = []\n",
    "listP_OCR.append(x)\n",
    "\n",
    "passos_OCR = 0\n",
    "while(parc > tol):\n",
    "    passos_OCR = passos_OCR + 1\n",
    "    if passos_OCR > 1:\n",
    "        r = beta*r\n",
    "        #atualiza cl_mont ....\n",
    "    listP_OSR, passos_OSR, flag_conv_OSR, tempoExec_OSR = osr.osr_ctrl(x, params, r, ctrl_num_osr, metodo_ocr, metodo_osr)\n",
    "    x = listP_OSR[-1]\n",
    "    listP_OCR.append(x)\n",
    "    if metodo_ocr == 1:\n",
    "        parc = (1/2)*r*ocr.p_penal(x, hk_list, cl_list, cl_mont)\n",
    "    elif metodo_ocr == 2:\n",
    "        parc = r*ocr.b_bar(x, cl_list)\n",
    "    "
   ]
  }
 ],
 "metadata": {
  "kernelspec": {
   "display_name": "optimization",
   "language": "python",
   "name": "python3"
  },
  "language_info": {
   "codemirror_mode": {
    "name": "ipython",
    "version": 3
   },
   "file_extension": ".py",
   "mimetype": "text/x-python",
   "name": "python",
   "nbconvert_exporter": "python",
   "pygments_lexer": "ipython3",
   "version": "3.11.0"
  },
  "orig_nbformat": 4
 },
 "nbformat": 4,
 "nbformat_minor": 2
}
